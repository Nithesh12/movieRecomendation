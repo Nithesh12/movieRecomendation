{
 "cells": [
  {
   "cell_type": "markdown",
   "metadata": {},
   "source": [
    "Movie Recommendation system using any algorithm\n",
    "------------------------------------------------\n",
    "Team Members:\n",
    "Nithesh B  1NT20IS101\n",
    "Ganapathy  1NT20IS054\n",
    "Vedanth    1NT20IS185\n",
    "Shubham    1NT20IS159"
   ]
  },
  {
   "cell_type": "code",
   "execution_count": 20,
   "metadata": {},
   "outputs": [
    {
     "name": "stdout",
     "output_type": "stream",
     "text": [
      "Movie name : iron man\n"
     ]
    }
   ],
   "source": [
    "#INPUT THE MOVIE NAME\n",
    "input_movie_title = \"iron man\"\n",
    "print(\"Movie name :\",input_movie_title)"
   ]
  },
  {
   "cell_type": "markdown",
   "metadata": {},
   "source": [
    "User Based Recommendation\n",
    "used algorithm : KNN"
   ]
  },
  {
   "cell_type": "code",
   "execution_count": 21,
   "metadata": {},
   "outputs": [],
   "source": [
    "import pandas as pd\n",
    "from sklearn.neighbors import NearestNeighbors\n",
    "\n",
    "from sklearn.feature_extraction.text import TfidfVectorizer\n",
    "from sklearn.ensemble import RandomForestClassifier\n",
    "from sklearn.metrics.pairwise import cosine_similarity\n",
    "\n",
    "# Load datasets\n",
    "movies_df = pd.read_csv('movies.csv')\n",
    "ratings_df = pd.read_csv('ratings.csv')"
   ]
  },
  {
   "cell_type": "markdown",
   "metadata": {},
   "source": [
    "Content Based Recommendation\n",
    "used algorithm : Random Forest"
   ]
  },
  {
   "cell_type": "code",
   "execution_count": 22,
   "metadata": {},
   "outputs": [
    {
     "name": "stdout",
     "output_type": "stream",
     "text": [
      "\n",
      "Top 5 movie recommendation : User Based Recommendation\n",
      "Input Movie - 'Iron Man (2008)':\n",
      "Genres: Action|Adventure|Sci-Fi\n",
      "Rating: 2.0\n",
      "1. Dark Knight, The (2008)   - Genres: Action|Crime|Drama|IMAX   -Rating: 4.5\n",
      "2. WALL·E (2008)   - Genres: Adventure|Animation|Children|Romance|Sci-Fi   -Rating: 3.5\n",
      "3. Avengers, The (2012)   - Genres: Action|Adventure|Sci-Fi|IMAX   -Rating: 2.0\n",
      "4. Iron Man 2 (2010)   - Genres: Action|Adventure|Sci-Fi|Thriller|IMAX   -Rating: 4.0\n",
      "5. Avatar (2009)   - Genres: Action|Adventure|Sci-Fi|IMAX   -Rating: 2.5\n"
     ]
    }
   ],
   "source": [
    "merged_df = pd.merge(ratings_df, movies_df, on='movieId')\n",
    "\n",
    "# Create a user-item matrix with movie ratings\n",
    "user_movie_matrix = merged_df.pivot_table(index='userId', columns='title', values='rating', fill_value=0)\n",
    "\n",
    "# Transpose the user-item matrix to have movies as rows and users as columns\n",
    "movie_user_matrix = user_movie_matrix.T\n",
    "\n",
    "# Apply k-Nearest Neighbors clustering on the transposed user-item matrix\n",
    "num_neighbors = 10  # You can experiment with the number of neighbors\n",
    "knn_model = NearestNeighbors(n_neighbors=num_neighbors, metric='cosine')\n",
    "knn_model.fit(movie_user_matrix)\n",
    "\n",
    "# Function to recommend movies based on input movie\n",
    "def recommend_movies(movie_title, num_recommendations=5):\n",
    "    # Make the input case-insensitive and partial string matching\n",
    "    input_movie_title_lower = movie_title.lower()\n",
    "    filtered_movies = movies_df[movies_df['title'].str.lower().str.contains(input_movie_title_lower)]\n",
    "\n",
    "    if filtered_movies.empty:\n",
    "        return []\n",
    "\n",
    "    # Print input movie name, genres, and rating\n",
    "    input_movie = filtered_movies.iloc[0]\n",
    "    print(f\"Input Movie - '{input_movie['title']}':\")\n",
    "    print(f\"Genres: {input_movie['genres']}\")\n",
    "    print(f\"Rating: {merged_df.loc[merged_df['title'] == input_movie['title'], 'rating'].values[0]}\")\n",
    "\n",
    "    # Find the neighbors of the input movie in the transposed user-item matrix\n",
    "    input_movie_index = movie_user_matrix.index.get_loc(input_movie['title'])\n",
    "    _, neighbor_indices = knn_model.kneighbors(movie_user_matrix.iloc[input_movie_index, :].values.reshape(1, -1))\n",
    "\n",
    "    # Exclude the input movie from recommendations\n",
    "    neighbor_indices = neighbor_indices[:, 1:]\n",
    "\n",
    "    # Get top N recommended movies\n",
    "    top_recommendations = []\n",
    "    for i in range(num_recommendations):\n",
    "        movie_index = neighbor_indices[0, i]\n",
    "        recommended_movie = movie_user_matrix.index[movie_index]\n",
    "        top_recommendations.append(recommended_movie)\n",
    "\n",
    "        # Print genres and rating for the recommended movie\n",
    "        genres = movies_df[movies_df['title'] == recommended_movie]['genres'].values[0]\n",
    "        rating = merged_df.loc[merged_df['title'] == recommended_movie, 'rating'].values[0]\n",
    "        print(f\"{i + 1}. {recommended_movie}   - Genres: {genres}   -Rating: {rating}\")\n",
    "\n",
    "    return top_recommendations\n",
    "\n",
    "# input_movie_title = \"city hall\"\n",
    "print(f\"\\nTop 5 movie recommendation : User Based Recommendation\")\n",
    "recommendations = recommend_movies(input_movie_title)\n"
   ]
  },
  {
   "cell_type": "code",
   "execution_count": 23,
   "metadata": {},
   "outputs": [
    {
     "name": "stdout",
     "output_type": "stream",
     "text": [
      "Input Movie - 'Iron Man (2008)':\n",
      "Genres: Action|Adventure|Sci-Fi\n",
      "Rating: 0.0\n",
      "\n",
      "Top 5 recommended movies : Content Based Recommendation\n",
      "1. Black Panther (2017)   -Genres: Action|Adventure|Sci-Fi    - Rating: 0.0\n",
      "2. X-Men: Days of Future Past (2014)   -Genres: Action|Adventure|Sci-Fi    - Rating: 0.0\n",
      "3. Returner (Ritaanaa) (2002)   -Genres: Action|Adventure|Sci-Fi    - Rating: 0.0\n",
      "4. Transformers: Age of Extinction (2014)   -Genres: Action|Adventure|Sci-Fi    - Rating: 0.0\n",
      "5. Waterworld (1995)   -Genres: Action|Adventure|Sci-Fi    - Rating: 0.0\n"
     ]
    }
   ],
   "source": [
    "# Merge datasets\n",
    "merged_df = pd.merge(ratings_df, movies_df, on='movieId')\n",
    "\n",
    "# Create a user-item matrix with movie genres and ratings\n",
    "user_movie_matrix = merged_df.pivot_table(index='userId', columns='title', values='rating', fill_value=0)\n",
    "\n",
    "# TF-IDF Vectorization of movie genres\n",
    "tfidf_vectorizer = TfidfVectorizer(stop_words='english')\n",
    "tfidf_matrix = tfidf_vectorizer.fit_transform(movies_df['genres'])\n",
    "\n",
    "# Apply Random Forest clustering on TF-IDF matrix\n",
    "num_clusters = 10  # You can experiment with the number of clusters\n",
    "rf_classifier = RandomForestClassifier(n_estimators=num_clusters, random_state=42)\n",
    "rf_classifier.fit(tfidf_matrix, movies_df['title'])\n",
    "\n",
    "# Add cluster labels to the movies dataframe\n",
    "movies_df['cluster'] = rf_classifier.predict(tfidf_matrix)\n",
    "\n",
    "# Function to recommend movies based on input movie\n",
    "def recommend_movies(movie_title, num_recommendations=5):\n",
    "    # Make the input case-insensitive and partial string matching\n",
    "    input_movie_title_lower = movie_title.lower()\n",
    "    filtered_movies = movies_df[movies_df['title'].str.lower().str.contains(input_movie_title_lower)]\n",
    "\n",
    "    if filtered_movies.empty:\n",
    "        return []\n",
    "\n",
    "    # Find the cluster of the input movie\n",
    "    input_movie_cluster = filtered_movies['cluster'].values[0]\n",
    "\n",
    "    # Filter movies in the same cluster as the input movie\n",
    "    cluster_movies = movies_df[movies_df['cluster'] == input_movie_cluster]\n",
    "\n",
    "    # Calculate cosine similarity between the input movie and others in the cluster\n",
    "    similarity_scores = cosine_similarity(tfidf_matrix[cluster_movies.index], tfidf_matrix[movies_df.index])\n",
    "\n",
    "    # Get movie indices sorted by similarity score\n",
    "    similar_movies_indices = similarity_scores.argsort()[:, ::-1]\n",
    "\n",
    "    # Exclude the input movie from recommendations\n",
    "    similar_movies_indices = similar_movies_indices[:, 1:]\n",
    "\n",
    "    # Get top N recommended movies\n",
    "    top_recommendations = []\n",
    "    for i in range(num_recommendations):\n",
    "        movie_index = similar_movies_indices[0, i]\n",
    "        top_recommendations.append(movies_df.iloc[movie_index])\n",
    "\n",
    "    return top_recommendations\n",
    "\n",
    "# Example usage\n",
    "# input_movie_title = \"city hall\"\n",
    "input_movie = movies_df[movies_df['title'].str.lower().str.contains(input_movie_title.lower())].iloc[0]\n",
    "\n",
    "recommendations = recommend_movies(input_movie_title)\n",
    "print(f\"Input Movie - '{input_movie['title']}':\")\n",
    "print(f\"Genres: {input_movie['genres']}\")\n",
    "print(f\"Rating: {user_movie_matrix.loc[:, input_movie['title']].iloc[0]}\")  # Using user-item matrix for rating\n",
    "print(\"\\nTop 5 recommended movies : Content Based Recommendation\")\n",
    "for i, movie in enumerate(recommendations, 1):\n",
    "    print(f\"{i}. {movie['title']}   -Genres: {movie['genres']}    - Rating: {user_movie_matrix.loc[:, movie['title']].iloc[0]}\")"
   ]
  }
 ],
 "metadata": {
  "kernelspec": {
   "display_name": "Python 3",
   "language": "python",
   "name": "python3"
  },
  "language_info": {
   "codemirror_mode": {
    "name": "ipython",
    "version": 3
   },
   "file_extension": ".py",
   "mimetype": "text/x-python",
   "name": "python",
   "nbconvert_exporter": "python",
   "pygments_lexer": "ipython3",
   "version": "3.10.5"
  }
 },
 "nbformat": 4,
 "nbformat_minor": 2
}
